{
 "cells": [
  {
   "cell_type": "markdown",
   "metadata": {},
   "source": [
    "<a href=\"https://www.bigdatauniversity.com\"><img src = \"https://ibm.box.com/shared/static/ugcqz6ohbvff804xp84y4kqnvvk3bq1g.png\" width = 300, align = \"center\"></a>\n",
    "\n",
    "<h1 align=center><font size = 5>Lab: Connect to Db2 database on Cloud using Python</font></h1>"
   ]
  },
  {
   "cell_type": "markdown",
   "metadata": {},
   "source": [
    "# Introduction\n",
    "\n",
    "This notebook illustrates how to access a DB2 database on Cloud using Python by following the steps below:\n",
    "1. Import the `ibm_db` Python library\n",
    "1. Enter the database connection credentials\n",
    "1. Create the database connection\n",
    "1. Close the database connection\n",
    "\n",
    "\n",
    "\n",
    "__Note:__ Please follow the instructions given in the first Lab of this course to Create a database service instance of Db2 on Cloud and retrieve your database Service Credentials.\n",
    "\n",
    "## Import the `ibm_db` Python library\n",
    "\n",
    "The `ibm_db` [API ](https://pypi.python.org/pypi/ibm_db/) provides a variety of useful Python functions for accessing and manipulating data in an IBM® data server database, including functions for connecting to a database, preparing and issuing SQL statements, fetching rows from result sets, calling stored procedures, committing and rolling back transactions, handling errors, and retrieving metadata.\n",
    "\n",
    "\n",
    "We first import the ibm_db library into our Python Application\n",
    "\n",
    "Execute the following cell by clicking within it and then \n",
    "press `Shift` and `Enter` keys simultaneously\n"
   ]
  },
  {
   "cell_type": "code",
   "execution_count": 1,
   "metadata": {
    "collapsed": false,
    "jupyter": {
     "outputs_hidden": false
    }
   },
   "outputs": [],
   "source": [
    "import ibm_db"
   ]
  },
  {
   "attachments": {
    "DB0201EN-Week3-1-1-Connecting-v4-py.ipynb": {
     "stream": "ewogImNlbGxzIjogWwogIHsKICAgImNlbGxfdHlwZSI6ICJtYXJrZG93biIsCiAgICJtZXRhZGF0YSI6IHt9LAogICAic291cmNlIjogWwogICAgIjxhIGhyZWY9XCJodHRwczovL3d3dy5iaWdkYXRhdW5pdmVyc2l0eS5jb21cIj48aW1nIHNyYyA9IFwiaHR0cHM6Ly9pYm0uYm94LmNvbS9zaGFyZWQvc3RhdGljL3VnY3F6Nm9oYnZmZjgwNHhwODR5NGtxbnZ2azNicTFnLnBuZ1wiIHdpZHRoID0gMzAwLCBhbGlnbiA9IFwiY2VudGVyXCI+PC9hPlxuIiwKICAgICJcbiIsCiAgICAiPGgxIGFsaWduPWNlbnRlcj48Zm9udCBzaXplID0gNT5MYWI6IENvbm5lY3QgdG8gRGIyIGRhdGFiYXNlIG9uIENsb3VkIHVzaW5nIFB5dGhvbjwvZm9udD48L2gxPiIKICAgXQogIH0sCiAgewogICAiY2VsbF90eXBlIjogIm1hcmtkb3duIiwKICAgIm1ldGFkYXRhIjoge30sCiAgICJzb3VyY2UiOiBbCiAgICAiIyBJbnRyb2R1Y3Rpb25cbiIsCiAgICAiXG4iLAogICAgIlRoaXMgbm90ZWJvb2sgaWxsdXN0cmF0ZXMgaG93IHRvIGFjY2VzcyBhIERCMiBkYXRhYmFzZSBvbiBDbG91ZCB1c2luZyBQeXRob24gYnkgZm9sbG93aW5nIHRoZSBzdGVwcyBiZWxvdzpcbiIsCiAgICAiMS4gSW1wb3J0IHRoZSBgaWJtX2RiYCBQeXRob24gbGlicmFyeVxuIiwKICAgICIxLiBFbnRlciB0aGUgZGF0YWJhc2UgY29ubmVjdGlvbiBjcmVkZW50aWFsc1xuIiwKICAgICIxLiBDcmVhdGUgdGhlIGRhdGFiYXNlIGNvbm5lY3Rpb25cbiIsCiAgICAiMS4gQ2xvc2UgdGhlIGRhdGFiYXNlIGNvbm5lY3Rpb25cbiIsCiAgICAiXG4iLAogICAgIlxuIiwKICAgICJcbiIsCiAgICAiX19Ob3RlOl9fIFBsZWFzZSBmb2xsb3cgdGhlIGluc3RydWN0aW9ucyBnaXZlbiBpbiB0aGUgZmlyc3QgTGFiIG9mIHRoaXMgY291cnNlIHRvIENyZWF0ZSBhIGRhdGFiYXNlIHNlcnZpY2UgaW5zdGFuY2Ugb2YgRGIyIG9uIENsb3VkIGFuZCByZXRyaWV2ZSB5b3VyIGRhdGFiYXNlIFNlcnZpY2UgQ3JlZGVudGlhbHMuXG4iLAogICAgIlxuIiwKICAgICIjIyBJbXBvcnQgdGhlIGBpYm1fZGJgIFB5dGhvbiBsaWJyYXJ5XG4iLAogICAgIlxuIiwKICAgICJUaGUgYGlibV9kYmAgW0FQSSBdKGh0dHBzOi8vcHlwaS5weXRob24ub3JnL3B5cGkvaWJtX2RiLykgcHJvdmlkZXMgYSB2YXJpZXR5IG9mIHVzZWZ1bCBQeXRob24gZnVuY3Rpb25zIGZvciBhY2Nlc3NpbmcgYW5kIG1hbmlwdWxhdGluZyBkYXRhIGluIGFuIElCTcKuIGRhdGEgc2VydmVyIGRhdGFiYXNlLCBpbmNsdWRpbmcgZnVuY3Rpb25zIGZvciBjb25uZWN0aW5nIHRvIGEgZGF0YWJhc2UsIHByZXBhcmluZyBhbmQgaXNzdWluZyBTUUwgc3RhdGVtZW50cywgZmV0Y2hpbmcgcm93cyBmcm9tIHJlc3VsdCBzZXRzLCBjYWxsaW5nIHN0b3JlZCBwcm9jZWR1cmVzLCBjb21taXR0aW5nIGFuZCByb2xsaW5nIGJhY2sgdHJhbnNhY3Rpb25zLCBoYW5kbGluZyBlcnJvcnMsIGFuZCByZXRyaWV2aW5nIG1ldGFkYXRhLlxuIiwKICAgICJcbiIsCiAgICAiXG4iLAogICAgIldlIGZpcnN0IGltcG9ydCB0aGUgaWJtX2RiIGxpYnJhcnkgaW50byBvdXIgUHl0aG9uIEFwcGxpY2F0aW9uXG4iLAogICAgIlxuIiwKICAgICJFeGVjdXRlIHRoZSBmb2xsb3dpbmcgY2VsbCBieSBjbGlja2luZyB3aXRoaW4gaXQgYW5kIHRoZW4gXG4iLAogICAgInByZXNzIGBTaGlmdGAgYW5kIGBFbnRlcmAga2V5cyBzaW11bHRhbmVvdXNseVxuIgogICBdCiAgfSwKICB7CiAgICJjZWxsX3R5cGUiOiAiY29kZSIsCiAgICJleGVjdXRpb25fY291bnQiOiBudWxsLAogICAibWV0YWRhdGEiOiB7CiAgICAiY29sbGFwc2VkIjogZmFsc2UKICAgfSwKICAgIm91dHB1dHMiOiBbXSwKICAgInNvdXJjZSI6IFsKICAgICJpbXBvcnQgaWJtX2RiIgogICBdCiAgfSwKICB7CiAgICJjZWxsX3R5cGUiOiAibWFya2Rvd24iLAogICAibWV0YWRhdGEiOiB7fSwKICAgInNvdXJjZSI6IFsKICAgICJXaGVuIHRoZSBjb21tYW5kIGFib3ZlIGNvbXBsZXRlcywgdGhlIGBpYm1fZGJgIGxpYnJhcnkgaXMgbG9hZGVkIGluIHlvdXIgbm90ZWJvb2suIFxuIiwKICAgICJcbiIsCiAgICAiXG4iLAogICAgIiMjIElkZW50aWZ5IHRoZSBkYXRhYmFzZSBjb25uZWN0aW9uIGNyZWRlbnRpYWxzXG4iLAogICAgIlxuIiwKICAgICJDb25uZWN0aW5nIHRvIGRhc2hEQiBvciBEQjIgZGF0YWJhc2UgcmVxdWlyZXMgdGhlIGZvbGxvd2luZyBpbmZvcm1hdGlvbjpcbiIsCiAgICAiKiBEcml2ZXIgTmFtZVxuIiwKICAgICIqIERhdGFiYXNlIG5hbWUgXG4iLAogICAgIiogSG9zdCBETlMgbmFtZSBvciBJUCBhZGRyZXNzIFxuIiwKICAgICIqIEhvc3QgcG9ydFxuIiwKICAgICIqIENvbm5lY3Rpb24gcHJvdG9jb2xcbiIsCiAgICAiKiBVc2VyIElEIChvciB1c2VybmFtZSlcbiIsCiAgICAiKiBVc2VyIFBhc3N3b3JkXG4iLAogICAgIlxuIiwKICAgICJcbiIsCiAgICAiXG4iLAogICAgIl9fTm90aWNlOl9fIFRvIG9idGFpbiBjcmVkZW50aWFscyBwbGVhc2UgcmVmZXIgdG8gdGhlIGluc3RydWN0aW9ucyBnaXZlbiBpbiB0aGUgZmlyc3QgTGFiIG9mIHRoaXMgY291cnNlXG4iLAogICAgIlxuIiwKICAgICJOb3cgZW50ZXIgeW91ciBkYXRhYmFzZSBjcmVkZW50aWFscyBiZWxvdyBhbmQgZXhlY3V0ZSB0aGUgY2VsbCB3aXRoIGBTaGlmdGAgKyBgRW50ZXJgXG4iCiAgIF0KICB9LAogIHsKICAgImNlbGxfdHlwZSI6ICJjb2RlIiwKICAgImV4ZWN1dGlvbl9jb3VudCI6IG51bGwsCiAgICJtZXRhZGF0YSI6IHsKICAgICJjb2xsYXBzZWQiOiBmYWxzZQogICB9LAogICAib3V0cHV0cyI6IFtdLAogICAic291cmNlIjogWwogICAgIiNSZXBsYWNlIHRoZSBwbGFjZWhvbGRlciB2YWx1ZXMgd2l0aCB5b3VyIGFjdHVhbCBEYjIgaG9zdG5hbWUsIHVzZXJuYW1lLCBhbmQgcGFzc3dvcmQ6XG4iLAogICAgImRzbl9ob3N0bmFtZSA9IFwiWW91ckRiMkhvc3RuYW1lXCIgIyBlLmcuOiBcImRhc2hkYi10eG4tc2JveC15cC1kYWwwOS0wNC5zZXJ2aWNlcy5kYWwuYmx1ZW1peC5uZXRcIlxuIiwKICAgICJkc25fdWlkID0gXCJZb3VyRGIyVXNlcm5hbWVcIiAgICAgICAgIyBlLmcuIFwiYWJjMTIzNDVcIlxuIiwKICAgICJkc25fcHdkID0gXCJZb3VlRGIyUGFzc3dvcmRcIiAgICAgICMgZS5nLiBcIjdkQlozd1d0OVhONiRvMEpcIlxuIiwKICAgICJcbiIsCiAgICAiZHNuX2RyaXZlciA9IFwie0lCTSBEQjIgT0RCQyBEUklWRVJ9XCJcbiIsCiAgICAiZHNuX2RhdGFiYXNlID0gXCJCTFVEQlwiICAgICAgICAgICAgIyBlLmcuIFwiQkxVREJcIlxuIiwKICAgICJkc25fcG9ydCA9IFwiNTAwMDBcIiAgICAgICAgICAgICAgICAjIGUuZy4gXCI1MDAwMFwiIFxuIiwKICAgICJkc25fcHJvdG9jb2wgPSBcIlRDUElQXCIgICAgICAgICAgICAjIGkuZS4gXCJUQ1BJUFwiIgogICBdCiAgfSwKICB7CiAgICJjZWxsX3R5cGUiOiAibWFya2Rvd24iLAogICAibWV0YWRhdGEiOiB7fSwKICAgInNvdXJjZSI6IFsKICAgICIjIyBDcmVhdGUgdGhlIERCMiBkYXRhYmFzZSBjb25uZWN0aW9uXG4iLAogICAgIlxuIiwKICAgICJJYm1fZGIgQVBJIHVzZXMgdGhlIElCTSBEYXRhIFNlcnZlciBEcml2ZXIgZm9yIE9EQkMgYW5kIENMSSBBUElzIHRvIGNvbm5lY3QgdG8gSUJNIERCMiBhbmQgSW5mb3JtaXguXG4iLAogICAgIlxuIiwKICAgICJcbiIsCiAgICAiTGV0cyBidWlsZCB0aGUgZHNuIGNvbm5lY3Rpb24gc3RyaW5nIHVzaW5nIHRoZSBjcmVkZW50aWFscyB5b3UgZW50ZXJlZCBhYm92ZVxuIgogICBdCiAgfSwKICB7CiAgICJjZWxsX3R5cGUiOiAiY29kZSIsCiAgICJleGVjdXRpb25fY291bnQiOiBudWxsLAogICAibWV0YWRhdGEiOiB7CiAgICAiY29sbGFwc2VkIjogZmFsc2UKICAgfSwKICAgIm91dHB1dHMiOiBbXSwKICAgInNvdXJjZSI6IFsKICAgICIjRE8gTk9UIE1PRElGWSBUSElTIENFTEwuIEp1c3QgUlVOIGl0IHdpdGggU2hpZnQgKyBFbnRlclxuIiwKICAgICIjQ3JlYXRlIHRoZSBkc24gY29ubmVjdGlvbiBzdHJpbmdcbiIsCiAgICAiZHNuID0gKFxuIiwKICAgICIgICAgXCJEUklWRVI9ezB9O1wiXG4iLAogICAgIiAgICBcIkRBVEFCQVNFPXsxfTtcIlxuIiwKICAgICIgICAgXCJIT1NUTkFNRT17Mn07XCJcbiIsCiAgICAiICAgIFwiUE9SVD17M307XCJcbiIsCiAgICAiICAgIFwiUFJPVE9DT0w9ezR9O1wiXG4iLAogICAgIiAgICBcIlVJRD17NX07XCJcbiIsCiAgICAiICAgIFwiUFdEPXs2fTtcIikuZm9ybWF0KGRzbl9kcml2ZXIsIGRzbl9kYXRhYmFzZSwgZHNuX2hvc3RuYW1lLCBkc25fcG9ydCwgZHNuX3Byb3RvY29sLCBkc25fdWlkLCBkc25fcHdkKVxuIiwKICAgICJcbiIsCiAgICAiI3ByaW50IHRoZSBjb25uZWN0aW9uIHN0cmluZyB0byBjaGVjayBjb3JyZWN0IHZhbHVlcyBhcmUgc3BlY2lmaWVkXG4iLAogICAgInByaW50KGRzbikiCiAgIF0KICB9LAogIHsKICAgImNlbGxfdHlwZSI6ICJtYXJrZG93biIsCiAgICJtZXRhZGF0YSI6IHt9LAogICAic291cmNlIjogWwogICAgIk5vdyBlc3RhYmxpc2ggdGhlIGNvbm5lY3Rpb24gdG8gdGhlIGRhdGFiYXNlIgogICBdCiAgfSwKICB7CiAgICJjZWxsX3R5cGUiOiAiY29kZSIsCiAgICJleGVjdXRpb25fY291bnQiOiBudWxsLAogICAibWV0YWRhdGEiOiB7CiAgICAiY29sbGFwc2VkIjogZmFsc2UKICAgfSwKICAgIm91dHB1dHMiOiBbXSwKICAgInNvdXJjZSI6IFsKICAgICIjRE8gTk9UIE1PRElGWSBUSElTIENFTEwuIEp1c3QgUlVOIGl0IHdpdGggU2hpZnQgKyBFbnRlclxuIiwKICAgICIjQ3JlYXRlIGRhdGFiYXNlIGNvbm5lY3Rpb25cbiIsCiAgICAiXG4iLAogICAgInRyeTpcbiIsCiAgICAiICAgIGNvbm4gPSBpYm1fZGIuY29ubmVjdChkc24sIFwiXCIsIFwiXCIpXG4iLAogICAgIiAgICBwcmludCAoXCJDb25uZWN0ZWQgdG8gZGF0YWJhc2U6IFwiLCBkc25fZGF0YWJhc2UsIFwiYXMgdXNlcjogXCIsIGRzbl91aWQsIFwib24gaG9zdDogXCIsIGRzbl9ob3N0bmFtZSlcbiIsCiAgICAiXG4iLAogICAgImV4Y2VwdDpcbiIsCiAgICAiICAgIHByaW50IChcIlVuYWJsZSB0byBjb25uZWN0OiBcIiwgaWJtX2RiLmNvbm5fZXJyb3Jtc2coKSApXG4iCiAgIF0KICB9LAogIHsKICAgImNlbGxfdHlwZSI6ICJtYXJrZG93biIsCiAgICJtZXRhZGF0YSI6IHt9LAogICAic291cmNlIjogWwogICAgIkNvbmdyYXR1bGF0aW9ucyBpZiB5b3Ugd2VyZSBhYmxlIHRvIGNvbm5lY3Qgc3VjY2Vzc2Z1bHkuIE90aGVyd2lzZSBjaGVjayB0aGUgZXJyb3IgYW5kIHRyeSBhZ2Fpbi4iCiAgIF0KICB9LAogIHsKICAgImNlbGxfdHlwZSI6ICJjb2RlIiwKICAgImV4ZWN1dGlvbl9jb3VudCI6IG51bGwsCiAgICJtZXRhZGF0YSI6IHsKICAgICJjb2xsYXBzZWQiOiBmYWxzZQogICB9LAogICAib3V0cHV0cyI6IFtdLAogICAic291cmNlIjogWwogICAgIiNSZXRyaWV2ZSBNZXRhZGF0YSBmb3IgdGhlIERhdGFiYXNlIFNlcnZlclxuIiwKICAgICJzZXJ2ZXIgPSBpYm1fZGIuc2VydmVyX2luZm8oY29ubilcbiIsCiAgICAiXG4iLAogICAgInByaW50IChcIkRCTVNfTkFNRTogXCIsIHNlcnZlci5EQk1TX05BTUUpXG4iLAogICAgInByaW50IChcIkRCTVNfVkVSOiAgXCIsIHNlcnZlci5EQk1TX1ZFUilcbiIsCiAgICAicHJpbnQgKFwiREJfTkFNRTogICBcIiwgc2VydmVyLkRCX05BTUUpIgogICBdCiAgfSwKICB7CiAgICJjZWxsX3R5cGUiOiAiY29kZSIsCiAgICJleGVjdXRpb25fY291bnQiOiBudWxsLAogICAibWV0YWRhdGEiOiB7CiAgICAiY29sbGFwc2VkIjogZmFsc2UKICAgfSwKICAgIm91dHB1dHMiOiBbXSwKICAgInNvdXJjZSI6IFsKICAgICIjUmV0cmlldmUgTWV0YWRhdGEgZm9yIHRoZSBEYXRhYmFzZSBDbGllbnQgLyBEcml2ZXJcbiIsCiAgICAiY2xpZW50ID0gaWJtX2RiLmNsaWVudF9pbmZvKGNvbm4pXG4iLAogICAgIlxuIiwKICAgICJwcmludCAoXCJEUklWRVJfTkFNRTogICAgICAgICAgXCIsIGNsaWVudC5EUklWRVJfTkFNRSkgXG4iLAogICAgInByaW50IChcIkRSSVZFUl9WRVI6ICAgICAgICAgICBcIiwgY2xpZW50LkRSSVZFUl9WRVIpXG4iLAogICAgInByaW50IChcIkRBVEFfU09VUkNFX05BTUU6ICAgICBcIiwgY2xpZW50LkRBVEFfU09VUkNFX05BTUUpXG4iLAogICAgInByaW50IChcIkRSSVZFUl9PREJDX1ZFUjogICAgICBcIiwgY2xpZW50LkRSSVZFUl9PREJDX1ZFUilcbiIsCiAgICAicHJpbnQgKFwiT0RCQ19WRVI6ICAgICAgICAgICAgIFwiLCBjbGllbnQuT0RCQ19WRVIpXG4iLAogICAgInByaW50IChcIk9EQkNfU1FMX0NPTkZPUk1BTkNFOiBcIiwgY2xpZW50Lk9EQkNfU1FMX0NPTkZPUk1BTkNFKVxuIiwKICAgICJwcmludCAoXCJBUFBMX0NPREVQQUdFOiAgICAgICAgXCIsIGNsaWVudC5BUFBMX0NPREVQQUdFKVxuIiwKICAgICJwcmludCAoXCJDT05OX0NPREVQQUdFOiAgICAgICAgXCIsIGNsaWVudC5DT05OX0NPREVQQUdFKSIKICAgXQogIH0sCiAgewogICAiY2VsbF90eXBlIjogIm1hcmtkb3duIiwKICAgIm1ldGFkYXRhIjoge30sCiAgICJzb3VyY2UiOiBbCiAgICAiIyMgQ2xvc2UgdGhlIENvbm5lY3Rpb25cbiIsCiAgICAiV2UgZnJlZSBhbGwgcmVzb3VyY2VzIGJ5IGNsb3NpbmcgdGhlIGNvbm5lY3Rpb24uIFJlbWVtYmVyIHRoYXQgaXQgaXMgYWx3YXlzIGltcG9ydGFudCB0byBjbG9zZSBjb25uZWN0aW9ucyBzbyB0aGF0IHdlIGNhbiBhdm9pZCB1bnVzZWQgY29ubmVjdGlvbnMgdGFraW5nIHVwIHJlc291cmNlcy4iCiAgIF0KICB9LAogIHsKICAgImNlbGxfdHlwZSI6ICJjb2RlIiwKICAgImV4ZWN1dGlvbl9jb3VudCI6IG51bGwsCiAgICJtZXRhZGF0YSI6IHsKICAgICJjb2xsYXBzZWQiOiBmYWxzZQogICB9LAogICAib3V0cHV0cyI6IFtdLAogICAic291cmNlIjogWwogICAgImlibV9kYi5jbG9zZShjb25uKSIKICAgXQogIH0sCiAgewogICAiY2VsbF90eXBlIjogIm1hcmtkb3duIiwKICAgIm1ldGFkYXRhIjoge30sCiAgICJzb3VyY2UiOiBbCiAgICAiIyMgU3VtbWFyeVxuIiwKICAgICJcbiIsCiAgICAiSW4gdGhpcyB0dXRvcmlhbCB5b3UgZXN0YWJsaXNoZWQgYSBjb25uZWN0aW9uIHRvIGEgREIyIGRhdGFiYXNlIG9uIENsb3VkIGRhdGFiYXNlIGZyb20gYSBQeXRob24gbm90ZWJvb2sgdXNpbmcgaWJtX2RiIEFQSS4gIgogICBdCiAgfSwKICB7CiAgICJjZWxsX3R5cGUiOiAibWFya2Rvd24iLAogICAibWV0YWRhdGEiOiB7fSwKICAgInNvdXJjZSI6IFsKICAgICJDb3B5cmlnaHQgJmNvcHk7IDIwMTcgW2NvZ25pdGl2ZWNsYXNzLmFpXShjb2duaXRpdmVjbGFzcy5haT91dG1fc291cmNlPWJkdWNvcHlyaWdodGxpbmsmdXRtX21lZGl1bT1kc3diJnV0bV9jYW1wYWlnbj1iZHUpLiBUaGlzIG5vdGVib29rIGFuZCBpdHMgc291cmNlIGNvZGUgYXJlIHJlbGVhc2VkIHVuZGVyIHRoZSB0ZXJtcyBvZiB0aGUgW01JVCBMaWNlbnNlXShodHRwczovL2JpZ2RhdGF1bml2ZXJzaXR5LmNvbS9taXQtbGljZW5zZS8pLlxuIgogICBdCiAgfQogXSwKICJtZXRhZGF0YSI6IHsKICAia2VybmVsc3BlYyI6IHsKICAgImRpc3BsYXlfbmFtZSI6ICJQeXRob24gMyIsCiAgICJsYW5ndWFnZSI6ICJweXRob24iLAogICAibmFtZSI6ICJweXRob24zIgogIH0sCiAgImxhbmd1YWdlX2luZm8iOiB7CiAgICJjb2RlbWlycm9yX21vZGUiOiB7CiAgICAibmFtZSI6ICJpcHl0aG9uIiwKICAgICJ2ZXJzaW9uIjogMwogICB9LAogICAiZmlsZV9leHRlbnNpb24iOiAiLnB5IiwKICAgIm1pbWV0eXBlIjogInRleHQveC1weXRob24iLAogICAibmFtZSI6ICJweXRob24iLAogICAibmJjb252ZXJ0X2V4cG9ydGVyIjogInB5dGhvbiIsCiAgICJweWdtZW50c19sZXhlciI6ICJpcHl0aG9uMyIsCiAgICJ2ZXJzaW9uIjogIjMuNi41IgogIH0sCiAgIndpZGdldHMiOiB7CiAgICJzdGF0ZSI6IHt9LAogICAidmVyc2lvbiI6ICIxLjEuMiIKICB9CiB9LAogIm5iZm9ybWF0IjogNCwKICJuYmZvcm1hdF9taW5vciI6IDIKfQo="
    }
   },
   "cell_type": "markdown",
   "metadata": {},
   "source": [
    "When the command above completes, the `ibm_db` library is loaded in your notebook. \n",
    "\n",
    "\n",
    "## Identify the database connection credentials\n",
    "\n",
    "Connecting to dashDB or DB2 database requires the following information:\n",
    "* Driver Name\n",
    "* Database name \n",
    "* Host DNS name or IP address \n",
    "* Host port\n",
    "* Connection protocol\n",
    "* User ID (or username)\n",
    "* User Password\n",
    "\n",
    "\n",
    "\n",
    "__Notice:__ To obtain credentials please refer to the instructions given in the first Lab of this course\n",
    "\n",
    "Now enter your database credentials below and execute the cell with `Shift` + `Enter`\n",
    "![DB0201EN-Week3-1-1-Connecting-v4-py.ipynb](attachment:DB0201EN-Week3-1-1-Connecting-v4-py.ipynb)"
   ]
  },
  {
   "cell_type": "code",
   "execution_count": 2,
   "metadata": {
    "collapsed": false,
    "jupyter": {
     "outputs_hidden": false
    }
   },
   "outputs": [],
   "source": [
    "#Replace the placeholder values with your actual Db2 hostname, username, and password:\n",
    "dsn_hostname = \"dashdb-txn-sbox-yp-lon02-04.services.eu-gb.bluemix.net\" # e.g.: \"dashdb-txn-sbox-yp-dal09-04.services.dal.bluemix.net\"\n",
    "dsn_uid = \"cdg64282\"        # e.g. \"abc12345\"\n",
    "dsn_pwd = \"1rb0xf^krw9lsfsc\"     # e.g. \"7dBZ3wWt9XN6$o0J\"\n",
    "\n",
    "dsn_driver = \"{IBM DB2 ODBC DRIVER}\"\n",
    "dsn_database = \"BLUDB\"            # e.g. \"BLUDB\"\n",
    "dsn_port = \"50000\"                # e.g. \"50000\" \n",
    "dsn_protocol = \"TCPIP\"            # i.e. \"TCPIP\""
   ]
  },
  {
   "cell_type": "markdown",
   "metadata": {},
   "source": [
    "## Create the DB2 database connection\n",
    "\n",
    "Ibm_db API uses the IBM Data Server Driver for ODBC and CLI APIs to connect to IBM DB2 and Informix.\n",
    "\n",
    "\n",
    "Lets build the dsn connection string using the credentials you entered above\n"
   ]
  },
  {
   "cell_type": "code",
   "execution_count": 3,
   "metadata": {
    "collapsed": false,
    "jupyter": {
     "outputs_hidden": false
    }
   },
   "outputs": [
    {
     "name": "stdout",
     "output_type": "stream",
     "text": [
      "DRIVER={IBM DB2 ODBC DRIVER};DATABASE=BLUDB;HOSTNAME=dashdb-txn-sbox-yp-lon02-04.services.eu-gb.bluemix.net;PORT=50000;PROTOCOL=TCPIP;UID=cdg64282;PWD=1rb0xf^krw9lsfsc;\n"
     ]
    }
   ],
   "source": [
    "#DO NOT MODIFY THIS CELL. Just RUN it with Shift + Enter\n",
    "#Create the dsn connection string\n",
    "dsn = (\n",
    "    \"DRIVER={0};\"\n",
    "    \"DATABASE={1};\"\n",
    "    \"HOSTNAME={2};\"\n",
    "    \"PORT={3};\"\n",
    "    \"PROTOCOL={4};\"\n",
    "    \"UID={5};\"\n",
    "    \"PWD={6};\").format(dsn_driver, dsn_database, dsn_hostname, dsn_port, dsn_protocol, dsn_uid, dsn_pwd)\n",
    "\n",
    "#print the connection string to check correct values are specified\n",
    "print(dsn)"
   ]
  },
  {
   "cell_type": "markdown",
   "metadata": {},
   "source": [
    "Now establish the connection to the database"
   ]
  },
  {
   "cell_type": "code",
   "execution_count": 4,
   "metadata": {
    "collapsed": false,
    "jupyter": {
     "outputs_hidden": false
    }
   },
   "outputs": [
    {
     "name": "stdout",
     "output_type": "stream",
     "text": [
      "Connected to database:  BLUDB as user:  cdg64282 on host:  dashdb-txn-sbox-yp-lon02-04.services.eu-gb.bluemix.net\n"
     ]
    }
   ],
   "source": [
    "#DO NOT MODIFY THIS CELL. Just RUN it with Shift + Enter\n",
    "#Create database connection\n",
    "\n",
    "try:\n",
    "    conn = ibm_db.connect(dsn, \"\", \"\")\n",
    "    print (\"Connected to database: \", dsn_database, \"as user: \", dsn_uid, \"on host: \", dsn_hostname)\n",
    "\n",
    "except:\n",
    "    print (\"Unable to connect: \", ibm_db.conn_errormsg() )\n"
   ]
  },
  {
   "cell_type": "markdown",
   "metadata": {},
   "source": [
    "Congratulations if you were able to connect successfuly. Otherwise check the error and try again."
   ]
  },
  {
   "cell_type": "code",
   "execution_count": 5,
   "metadata": {
    "collapsed": false,
    "jupyter": {
     "outputs_hidden": false
    }
   },
   "outputs": [
    {
     "name": "stdout",
     "output_type": "stream",
     "text": [
      "DBMS_NAME:  DB2/LINUXX8664\n",
      "DBMS_VER:   11.01.0404\n",
      "DB_NAME:    BLUDB\n"
     ]
    }
   ],
   "source": [
    "#Retrieve Metadata for the Database Server\n",
    "server = ibm_db.server_info(conn)\n",
    "\n",
    "print (\"DBMS_NAME: \", server.DBMS_NAME)\n",
    "print (\"DBMS_VER:  \", server.DBMS_VER)\n",
    "print (\"DB_NAME:   \", server.DB_NAME)"
   ]
  },
  {
   "cell_type": "code",
   "execution_count": 6,
   "metadata": {
    "collapsed": false,
    "jupyter": {
     "outputs_hidden": false
    }
   },
   "outputs": [
    {
     "name": "stdout",
     "output_type": "stream",
     "text": [
      "DRIVER_NAME:           libdb2.a\n",
      "DRIVER_VER:            11.01.0405\n",
      "DATA_SOURCE_NAME:      BLUDB\n",
      "DRIVER_ODBC_VER:       03.51\n",
      "ODBC_VER:              03.01.0000\n",
      "ODBC_SQL_CONFORMANCE:  EXTENDED\n",
      "APPL_CODEPAGE:         1208\n",
      "CONN_CODEPAGE:         1208\n"
     ]
    }
   ],
   "source": [
    "#Retrieve Metadata for the Database Client / Driver\n",
    "client = ibm_db.client_info(conn)\n",
    "\n",
    "print (\"DRIVER_NAME:          \", client.DRIVER_NAME) \n",
    "print (\"DRIVER_VER:           \", client.DRIVER_VER)\n",
    "print (\"DATA_SOURCE_NAME:     \", client.DATA_SOURCE_NAME)\n",
    "print (\"DRIVER_ODBC_VER:      \", client.DRIVER_ODBC_VER)\n",
    "print (\"ODBC_VER:             \", client.ODBC_VER)\n",
    "print (\"ODBC_SQL_CONFORMANCE: \", client.ODBC_SQL_CONFORMANCE)\n",
    "print (\"APPL_CODEPAGE:        \", client.APPL_CODEPAGE)\n",
    "print (\"CONN_CODEPAGE:        \", client.CONN_CODEPAGE)"
   ]
  },
  {
   "cell_type": "markdown",
   "metadata": {},
   "source": [
    "## Close the Connection\n",
    "We free all resources by closing the connection. Remember that it is always important to close connections so that we can avoid unused connections taking up resources."
   ]
  },
  {
   "cell_type": "code",
   "execution_count": 9,
   "metadata": {},
   "outputs": [],
   "source": [
    "stmt = ibm_db.exec_immediate(conn,\n",
    "                            \"CREATE TABLE gameboy(serial_no varchar(20) PRIMARY KEY NOT NULL,name varchar(20) NOT NULL)\"\n",
    "                            )"
   ]
  },
  {
   "cell_type": "code",
   "execution_count": 10,
   "metadata": {
    "collapsed": false,
    "jupyter": {
     "outputs_hidden": false
    }
   },
   "outputs": [
    {
     "data": {
      "text/plain": [
       "True"
      ]
     },
     "execution_count": 10,
     "metadata": {},
     "output_type": "execute_result"
    }
   ],
   "source": [
    "ibm_db.close(conn)"
   ]
  },
  {
   "cell_type": "markdown",
   "metadata": {},
   "source": [
    "## Summary\n",
    "\n",
    "In this tutorial you established a connection to a DB2 database on Cloud database from a Python notebook using ibm_db API. "
   ]
  },
  {
   "cell_type": "markdown",
   "metadata": {},
   "source": [
    "Copyright &copy; 2017 [cognitiveclass.ai](cognitiveclass.ai?utm_source=bducopyrightlink&utm_medium=dswb&utm_campaign=bdu). This notebook and its source code are released under the terms of the [MIT License](https://bigdatauniversity.com/mit-license/).\n"
   ]
  }
 ],
 "metadata": {
  "kernelspec": {
   "display_name": "Python",
   "language": "python",
   "name": "conda-env-python-py"
  },
  "language_info": {
   "codemirror_mode": {
    "name": "ipython",
    "version": 3
   },
   "file_extension": ".py",
   "mimetype": "text/x-python",
   "name": "python",
   "nbconvert_exporter": "python",
   "pygments_lexer": "ipython3",
   "version": "3.6.10"
  },
  "widgets": {
   "state": {},
   "version": "1.1.2"
  }
 },
 "nbformat": 4,
 "nbformat_minor": 4
}
